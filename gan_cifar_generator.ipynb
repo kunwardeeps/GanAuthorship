{
 "cells": [
  {
   "cell_type": "code",
   "execution_count": 14,
   "metadata": {},
   "outputs": [],
   "source": [
    "import numpy as np\n",
    "import matplotlib.pyplot as plt\n",
    "from keras.models import load_model\n",
    "import matplotlib.image as mpimg\n",
    "from numpy.random import randn\n",
    "%matplotlib inline"
   ]
  },
  {
   "cell_type": "code",
   "execution_count": 24,
   "metadata": {},
   "outputs": [
    {
     "name": "stderr",
     "output_type": "stream",
     "text": [
      "/apps/python3/3.6.5/lib/python3.6/site-packages/keras/engine/saving.py:292: UserWarning: No training configuration found in save file: the model was *not* compiled. Compile it manually.\n",
      "  warnings.warn('No training configuration found in save file: '\n"
     ]
    }
   ],
   "source": [
    "gen = load_model('/home/kunwardeep.singh/generator_model_2000.h5')\n",
    "n_samples = 10000\n",
    "latent_dim = 100\n",
    "x_input = randn(latent_dim * n_samples)\n",
    "x_input = x_input.reshape(n_samples, latent_dim)\n",
    "X = gen.predict(x_input)\n",
    "\n",
    "for k in range(n_samples):\n",
    "    plt.imsave('/ufrc/cis6930/kunwardeep.singh/GanGenerator/data11/train/gan1/gan1_{}.png'.format(k), ((X[k] + 1)* 127).astype(np.uint8))"
   ]
  },
  {
   "cell_type": "code",
   "execution_count": 20,
   "metadata": {},
   "outputs": [
    {
     "data": {
      "text/plain": [
       "<matplotlib.image.AxesImage at 0x2b55ca895668>"
      ]
     },
     "execution_count": 20,
     "metadata": {},
     "output_type": "execute_result"
    },
    {
     "data": {
      "image/png": "[encoded data removed]",
      "text/plain": [
       "<matplotlib.figure.Figure at 0x2b55ca86a550>"
      ]
     },
     "metadata": {},
     "output_type": "display_data"
    }
   ],
   "source": [
    "img = mpimg.imread('/ufrc/cis6930/kunwardeep.singh/GanGenerator/data9/validation/gan1/gan1_0.png')\n",
    "plt.imshow(img)"
   ]
  },
  {
   "cell_type": "code",
   "execution_count": null,
   "metadata": {},
   "outputs": [],
   "source": []
  }
 ],
 "metadata": {
  "kernelspec": {
   "display_name": "Python 3.6. (full)",
   "language": "python",
   "name": "python3-3.6-ufrc"
  },
  "language_info": {
   "codemirror_mode": {
    "name": "ipython",
    "version": 3
   },
   "file_extension": ".py",
   "mimetype": "text/x-python",
   "name": "python",
   "nbconvert_exporter": "python",
   "pygments_lexer": "ipython3",
   "version": "3.6.5"
  }
 },
 "nbformat": 4,
 "nbformat_minor": 4
}
